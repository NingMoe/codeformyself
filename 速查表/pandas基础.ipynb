{
 "cells": [
  {
   "cell_type": "code",
   "execution_count": 1,
   "metadata": {
    "collapsed": true
   },
   "outputs": [],
   "source": [
    "import pandas as pd"
   ]
  },
  {
   "cell_type": "code",
   "execution_count": 7,
   "metadata": {},
   "outputs": [
    {
     "name": "stdout",
     "output_type": "stream",
     "text": [
      "a    3\nb   -5\nc    3\nd    4\ndtype: int64\n-5\n"
     ]
    }
   ],
   "source": [
    "s = pd.Series([3, -5, 3, 4], index=['a', 'b', 'c', 'd'])\n",
    "print(s)\n",
    "\n",
    "print(s['b'])  # 取序列的值\n"
   ]
  },
  {
   "cell_type": "code",
   "execution_count": 8,
   "metadata": {},
   "outputs": [
    {
     "name": "stdout",
     "output_type": "stream",
     "text": [
      "   country    capital  population\n0  belgium   brussele      111111\n1    india  new delhi      222222\n2   brazil  brasillis      333333\n  country    capital  population\n1   india  new delhi      222222\n2  brazil  brasillis      333333\n"
     ]
    }
   ],
   "source": [
    "data = {'country': ['belgium', 'india', 'brazil'],\n",
    "        'capital': ['brussele', 'new delhi', 'brasillis'],\n",
    "        'population': [111111, 222222, 333333]\n",
    "        }\n",
    "df = pd.DataFrame(data, columns=['country', 'capital', 'population'])\n",
    "print(df)\n",
    "print(df[1:])\n",
    "\n"
   ]
  },
  {
   "cell_type": "code",
   "execution_count": 14,
   "metadata": {},
   "outputs": [
    {
     "data": {
      "text/plain": [
       "'belgium'"
      ]
     },
     "execution_count": 14,
     "metadata": {},
     "output_type": "execute_result"
    }
   ],
   "source": [
    "\n",
    "df.iat[0, 0]\n"
   ]
  },
  {
   "cell_type": "code",
   "execution_count": 15,
   "metadata": {},
   "outputs": [
    {
     "data": {
      "text/plain": [
       "'belgium'"
      ]
     },
     "execution_count": 15,
     "metadata": {},
     "output_type": "execute_result"
    }
   ],
   "source": [
    "df.iloc[0, 0]"
   ]
  },
  {
   "cell_type": "code",
   "execution_count": null,
   "metadata": {},
   "outputs": [],
   "source": []
  }
 ],
 "metadata": {
  "kernelspec": {
   "display_name": "Python 2",
   "language": "python",
   "name": "python2"
  },
  "language_info": {
   "codemirror_mode": {
    "name": "ipython",
    "version": 2
   },
   "file_extension": ".py",
   "mimetype": "text/x-python",
   "name": "python",
   "nbconvert_exporter": "python",
   "pygments_lexer": "ipython2",
   "version": "2.7.6"
  }
 },
 "nbformat": 4,
 "nbformat_minor": 0
}
